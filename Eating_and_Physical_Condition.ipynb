{
  "cells": [
    {
      "cell_type": "markdown",
      "source": [
        "\n",
        "LINK TO DATASET: https://archive.ics.uci.edu/ml/datasets/Estimation+of+obesity+levels+based+on+eating+habits+and+physical+condition+\n",
        "\n",
        "LINK TO ATTRIBUTE INFO: https://www.sciencedirect.com/science/article/pii/S2352340919306985?via%3Dihub"
      ],
      "metadata": {
        "id": "vOgpFt5QPQO6"
      }
    },
    {
      "cell_type": "code",
      "source": [
        "# data analysis and wrangling\n",
        "import pandas as pd\n",
        "import numpy as np\n",
        "\n",
        "# visualization\n",
        "import matplotlib.pyplot as plt\n",
        "\n",
        "# train, test, split\n",
        "from sklearn.model_selection import train_test_split\n",
        "\n",
        "# encoders\n",
        "from sklearn.impute import SimpleImputer\n",
        "\n",
        "#pipeline\n",
        "from sklearn.pipeline import make_pipeline\n",
        "\n",
        "# logistic regression\n",
        "from sklearn.linear_model import LogisticRegression\n",
        "from sklearn.datasets import make_classification\n",
        "\n",
        "# bagged model\n",
        "from sklearn.ensemble import RandomForestClassifier\n",
        "\n",
        "# boosted Models\n",
        "from sklearn.ensemble import GradientBoostingClassifier\n",
        "from xgboost import XGBClassifier \n",
        "!pip uninstall xgboost \n",
        "!pip install xgboost==0.90\n",
        "\n",
        "# permutation Importance\n",
        "from sklearn.inspection import permutation_importance \n",
        "\n",
        "# score\n",
        "from sklearn.metrics import accuracy_score\n",
        "from sklearn.preprocessing import StandardScaler"
      ],
      "metadata": {
        "id": "yM7JYIkJO3IE",
        "colab": {
          "base_uri": "https://localhost:8080/",
          "height": 365
        },
        "outputId": "9c91309f-5235-4b99-c8ab-39fc9f735a3b"
      },
      "execution_count": null,
      "outputs": [
        {
          "output_type": "stream",
          "name": "stdout",
          "text": [
            "Found existing installation: xgboost 0.90\n",
            "Uninstalling xgboost-0.90:\n",
            "  Would remove:\n",
            "    /usr/local/lib/python3.9/dist-packages/xgboost-0.90.dist-info/*\n",
            "    /usr/local/lib/python3.9/dist-packages/xgboost/*\n",
            "    /usr/local/xgboost/libxgboost.so\n",
            "Proceed (Y/n)? Y\n",
            "  Successfully uninstalled xgboost-0.90\n",
            "Looking in indexes: https://pypi.org/simple, https://us-python.pkg.dev/colab-wheels/public/simple/\n",
            "Collecting xgboost==0.90\n",
            "  Using cached xgboost-0.90-py2.py3-none-manylinux1_x86_64.whl (142.8 MB)\n",
            "Requirement already satisfied: scipy in /usr/local/lib/python3.9/dist-packages (from xgboost==0.90) (1.10.1)\n",
            "Requirement already satisfied: numpy in /usr/local/lib/python3.9/dist-packages (from xgboost==0.90) (1.22.4)\n",
            "Installing collected packages: xgboost\n",
            "Successfully installed xgboost-0.90\n"
          ]
        },
        {
          "output_type": "display_data",
          "data": {
            "application/vnd.colab-display-data+json": {
              "pip_warning": {
                "packages": [
                  "xgboost"
                ]
              }
            }
          },
          "metadata": {}
        }
      ]
    },
    {
      "cell_type": "code",
      "source": [
        "!pip uninstall scikit-learn -y\n",
        "!pip install scikit-learn==1.2\n",
        "\n",
        "# category encoders\n",
        "from sklearn.preprocessing import OneHotEncoder, OrdinalEncoder"
      ],
      "metadata": {
        "id": "Pkuy_4LsPBOw",
        "colab": {
          "base_uri": "https://localhost:8080/",
          "height": 313
        },
        "outputId": "db4bbaa8-0954-4001-95ac-4063f18a4b10"
      },
      "execution_count": null,
      "outputs": [
        {
          "output_type": "stream",
          "name": "stdout",
          "text": [
            "Found existing installation: scikit-learn 1.2.0\n",
            "Uninstalling scikit-learn-1.2.0:\n",
            "  Successfully uninstalled scikit-learn-1.2.0\n",
            "Looking in indexes: https://pypi.org/simple, https://us-python.pkg.dev/colab-wheels/public/simple/\n",
            "Collecting scikit-learn==1.2\n",
            "  Using cached scikit_learn-1.2.0-cp39-cp39-manylinux_2_17_x86_64.manylinux2014_x86_64.whl (9.5 MB)\n",
            "Requirement already satisfied: numpy>=1.17.3 in /usr/local/lib/python3.9/dist-packages (from scikit-learn==1.2) (1.22.4)\n",
            "Requirement already satisfied: joblib>=1.1.1 in /usr/local/lib/python3.9/dist-packages (from scikit-learn==1.2) (1.1.1)\n",
            "Requirement already satisfied: scipy>=1.3.2 in /usr/local/lib/python3.9/dist-packages (from scikit-learn==1.2) (1.10.1)\n",
            "Requirement already satisfied: threadpoolctl>=2.0.0 in /usr/local/lib/python3.9/dist-packages (from scikit-learn==1.2) (3.1.0)\n",
            "Installing collected packages: scikit-learn\n",
            "Successfully installed scikit-learn-1.2.0\n"
          ]
        },
        {
          "output_type": "display_data",
          "data": {
            "application/vnd.colab-display-data+json": {
              "pip_warning": {
                "packages": [
                  "sklearn"
                ]
              }
            }
          },
          "metadata": {}
        }
      ]
    },
    {
      "cell_type": "code",
      "source": [
        "!pip install shap"
      ],
      "metadata": {
        "colab": {
          "base_uri": "https://localhost:8080/"
        },
        "id": "9uBOdtcRpDJ6",
        "outputId": "920c2994-0273-4b3d-f2d2-d339c72a4646"
      },
      "execution_count": null,
      "outputs": [
        {
          "output_type": "stream",
          "name": "stdout",
          "text": [
            "Looking in indexes: https://pypi.org/simple, https://us-python.pkg.dev/colab-wheels/public/simple/\n",
            "Collecting shap\n",
            "  Downloading shap-0.41.0-cp39-cp39-manylinux_2_12_x86_64.manylinux2010_x86_64.whl (572 kB)\n",
            "\u001b[2K     \u001b[90m━━━━━━━━━━━━━━━━━━━━━━━━━━━━━━━━━━━━━━\u001b[0m \u001b[32m572.4/572.4 KB\u001b[0m \u001b[31m34.7 MB/s\u001b[0m eta \u001b[36m0:00:00\u001b[0m\n",
            "\u001b[?25hRequirement already satisfied: scipy in /usr/local/lib/python3.9/dist-packages (from shap) (1.10.1)\n",
            "Requirement already satisfied: pandas in /usr/local/lib/python3.9/dist-packages (from shap) (1.4.4)\n",
            "Requirement already satisfied: numpy in /usr/local/lib/python3.9/dist-packages (from shap) (1.22.4)\n",
            "Requirement already satisfied: scikit-learn in /usr/local/lib/python3.9/dist-packages (from shap) (1.2.0)\n",
            "Requirement already satisfied: packaging>20.9 in /usr/local/lib/python3.9/dist-packages (from shap) (23.0)\n",
            "Requirement already satisfied: cloudpickle in /usr/local/lib/python3.9/dist-packages (from shap) (2.2.1)\n",
            "Requirement already satisfied: tqdm>4.25.0 in /usr/local/lib/python3.9/dist-packages (from shap) (4.65.0)\n",
            "Requirement already satisfied: numba in /usr/local/lib/python3.9/dist-packages (from shap) (0.56.4)\n",
            "Collecting slicer==0.0.7\n",
            "  Downloading slicer-0.0.7-py3-none-any.whl (14 kB)\n",
            "Requirement already satisfied: llvmlite<0.40,>=0.39.0dev0 in /usr/local/lib/python3.9/dist-packages (from numba->shap) (0.39.1)\n",
            "Requirement already satisfied: setuptools in /usr/local/lib/python3.9/dist-packages (from numba->shap) (63.4.3)\n",
            "Requirement already satisfied: pytz>=2020.1 in /usr/local/lib/python3.9/dist-packages (from pandas->shap) (2022.7.1)\n",
            "Requirement already satisfied: python-dateutil>=2.8.1 in /usr/local/lib/python3.9/dist-packages (from pandas->shap) (2.8.2)\n",
            "Requirement already satisfied: threadpoolctl>=2.0.0 in /usr/local/lib/python3.9/dist-packages (from scikit-learn->shap) (3.1.0)\n",
            "Requirement already satisfied: joblib>=1.1.1 in /usr/local/lib/python3.9/dist-packages (from scikit-learn->shap) (1.1.1)\n",
            "Requirement already satisfied: six>=1.5 in /usr/local/lib/python3.9/dist-packages (from python-dateutil>=2.8.1->pandas->shap) (1.15.0)\n",
            "Installing collected packages: slicer, shap\n",
            "Successfully installed shap-0.41.0 slicer-0.0.7\n"
          ]
        }
      ]
    },
    {
      "cell_type": "code",
      "source": [
        "from sklearn.inspection import PartialDependenceDisplay\n",
        "import shap"
      ],
      "metadata": {
        "id": "G7GgQMtrpAeR"
      },
      "execution_count": null,
      "outputs": []
    },
    {
      "cell_type": "code",
      "source": [
        "from google.colab import files\n",
        "df = files.upload()"
      ],
      "metadata": {
        "id": "VegJraoJPFd5",
        "colab": {
          "base_uri": "https://localhost:8080/",
          "height": 71
        },
        "outputId": "e3d02f5e-38d2-422e-94de-512ef63ffee8"
      },
      "execution_count": null,
      "outputs": [
        {
          "output_type": "display_data",
          "data": {
            "text/plain": [
              "<IPython.core.display.HTML object>"
            ],
            "text/html": [
              "\n",
              "     <input type=\"file\" id=\"files-50f1e468-3ba1-4838-adbb-7bacc69d69c5\" name=\"files[]\" multiple disabled\n",
              "        style=\"border:none\" />\n",
              "     <output id=\"result-50f1e468-3ba1-4838-adbb-7bacc69d69c5\">\n",
              "      Upload widget is only available when the cell has been executed in the\n",
              "      current browser session. Please rerun this cell to enable.\n",
              "      </output>\n",
              "      <script>// Copyright 2017 Google LLC\n",
              "//\n",
              "// Licensed under the Apache License, Version 2.0 (the \"License\");\n",
              "// you may not use this file except in compliance with the License.\n",
              "// You may obtain a copy of the License at\n",
              "//\n",
              "//      http://www.apache.org/licenses/LICENSE-2.0\n",
              "//\n",
              "// Unless required by applicable law or agreed to in writing, software\n",
              "// distributed under the License is distributed on an \"AS IS\" BASIS,\n",
              "// WITHOUT WARRANTIES OR CONDITIONS OF ANY KIND, either express or implied.\n",
              "// See the License for the specific language governing permissions and\n",
              "// limitations under the License.\n",
              "\n",
              "/**\n",
              " * @fileoverview Helpers for google.colab Python module.\n",
              " */\n",
              "(function(scope) {\n",
              "function span(text, styleAttributes = {}) {\n",
              "  const element = document.createElement('span');\n",
              "  element.textContent = text;\n",
              "  for (const key of Object.keys(styleAttributes)) {\n",
              "    element.style[key] = styleAttributes[key];\n",
              "  }\n",
              "  return element;\n",
              "}\n",
              "\n",
              "// Max number of bytes which will be uploaded at a time.\n",
              "const MAX_PAYLOAD_SIZE = 100 * 1024;\n",
              "\n",
              "function _uploadFiles(inputId, outputId) {\n",
              "  const steps = uploadFilesStep(inputId, outputId);\n",
              "  const outputElement = document.getElementById(outputId);\n",
              "  // Cache steps on the outputElement to make it available for the next call\n",
              "  // to uploadFilesContinue from Python.\n",
              "  outputElement.steps = steps;\n",
              "\n",
              "  return _uploadFilesContinue(outputId);\n",
              "}\n",
              "\n",
              "// This is roughly an async generator (not supported in the browser yet),\n",
              "// where there are multiple asynchronous steps and the Python side is going\n",
              "// to poll for completion of each step.\n",
              "// This uses a Promise to block the python side on completion of each step,\n",
              "// then passes the result of the previous step as the input to the next step.\n",
              "function _uploadFilesContinue(outputId) {\n",
              "  const outputElement = document.getElementById(outputId);\n",
              "  const steps = outputElement.steps;\n",
              "\n",
              "  const next = steps.next(outputElement.lastPromiseValue);\n",
              "  return Promise.resolve(next.value.promise).then((value) => {\n",
              "    // Cache the last promise value to make it available to the next\n",
              "    // step of the generator.\n",
              "    outputElement.lastPromiseValue = value;\n",
              "    return next.value.response;\n",
              "  });\n",
              "}\n",
              "\n",
              "/**\n",
              " * Generator function which is called between each async step of the upload\n",
              " * process.\n",
              " * @param {string} inputId Element ID of the input file picker element.\n",
              " * @param {string} outputId Element ID of the output display.\n",
              " * @return {!Iterable<!Object>} Iterable of next steps.\n",
              " */\n",
              "function* uploadFilesStep(inputId, outputId) {\n",
              "  const inputElement = document.getElementById(inputId);\n",
              "  inputElement.disabled = false;\n",
              "\n",
              "  const outputElement = document.getElementById(outputId);\n",
              "  outputElement.innerHTML = '';\n",
              "\n",
              "  const pickedPromise = new Promise((resolve) => {\n",
              "    inputElement.addEventListener('change', (e) => {\n",
              "      resolve(e.target.files);\n",
              "    });\n",
              "  });\n",
              "\n",
              "  const cancel = document.createElement('button');\n",
              "  inputElement.parentElement.appendChild(cancel);\n",
              "  cancel.textContent = 'Cancel upload';\n",
              "  const cancelPromise = new Promise((resolve) => {\n",
              "    cancel.onclick = () => {\n",
              "      resolve(null);\n",
              "    };\n",
              "  });\n",
              "\n",
              "  // Wait for the user to pick the files.\n",
              "  const files = yield {\n",
              "    promise: Promise.race([pickedPromise, cancelPromise]),\n",
              "    response: {\n",
              "      action: 'starting',\n",
              "    }\n",
              "  };\n",
              "\n",
              "  cancel.remove();\n",
              "\n",
              "  // Disable the input element since further picks are not allowed.\n",
              "  inputElement.disabled = true;\n",
              "\n",
              "  if (!files) {\n",
              "    return {\n",
              "      response: {\n",
              "        action: 'complete',\n",
              "      }\n",
              "    };\n",
              "  }\n",
              "\n",
              "  for (const file of files) {\n",
              "    const li = document.createElement('li');\n",
              "    li.append(span(file.name, {fontWeight: 'bold'}));\n",
              "    li.append(span(\n",
              "        `(${file.type || 'n/a'}) - ${file.size} bytes, ` +\n",
              "        `last modified: ${\n",
              "            file.lastModifiedDate ? file.lastModifiedDate.toLocaleDateString() :\n",
              "                                    'n/a'} - `));\n",
              "    const percent = span('0% done');\n",
              "    li.appendChild(percent);\n",
              "\n",
              "    outputElement.appendChild(li);\n",
              "\n",
              "    const fileDataPromise = new Promise((resolve) => {\n",
              "      const reader = new FileReader();\n",
              "      reader.onload = (e) => {\n",
              "        resolve(e.target.result);\n",
              "      };\n",
              "      reader.readAsArrayBuffer(file);\n",
              "    });\n",
              "    // Wait for the data to be ready.\n",
              "    let fileData = yield {\n",
              "      promise: fileDataPromise,\n",
              "      response: {\n",
              "        action: 'continue',\n",
              "      }\n",
              "    };\n",
              "\n",
              "    // Use a chunked sending to avoid message size limits. See b/62115660.\n",
              "    let position = 0;\n",
              "    do {\n",
              "      const length = Math.min(fileData.byteLength - position, MAX_PAYLOAD_SIZE);\n",
              "      const chunk = new Uint8Array(fileData, position, length);\n",
              "      position += length;\n",
              "\n",
              "      const base64 = btoa(String.fromCharCode.apply(null, chunk));\n",
              "      yield {\n",
              "        response: {\n",
              "          action: 'append',\n",
              "          file: file.name,\n",
              "          data: base64,\n",
              "        },\n",
              "      };\n",
              "\n",
              "      let percentDone = fileData.byteLength === 0 ?\n",
              "          100 :\n",
              "          Math.round((position / fileData.byteLength) * 100);\n",
              "      percent.textContent = `${percentDone}% done`;\n",
              "\n",
              "    } while (position < fileData.byteLength);\n",
              "  }\n",
              "\n",
              "  // All done.\n",
              "  yield {\n",
              "    response: {\n",
              "      action: 'complete',\n",
              "    }\n",
              "  };\n",
              "}\n",
              "\n",
              "scope.google = scope.google || {};\n",
              "scope.google.colab = scope.google.colab || {};\n",
              "scope.google.colab._files = {\n",
              "  _uploadFiles,\n",
              "  _uploadFilesContinue,\n",
              "};\n",
              "})(self);\n",
              "</script> "
            ]
          },
          "metadata": {}
        },
        {
          "output_type": "stream",
          "name": "stdout",
          "text": [
            "Saving ObesityDataSet_raw_and_data_sinthetic.csv to ObesityDataSet_raw_and_data_sinthetic.csv\n"
          ]
        }
      ]
    },
    {
      "cell_type": "code",
      "source": [
        "def wrangle(filepath):\n",
        "  df = pd.read_csv(filepath)\n",
        "\n",
        "  # null values, datetime, index, outliers = not applicable\n",
        "\n",
        "  # HCC = not applicable\n",
        "\n",
        "  # format column names\n",
        "  df.columns = ['gender', 'age', 'height', 'weight', 'fam_hist_overweight', 'high_cal_freq', 'veg_with_meals', 'main_meals_daily', 'eat_between_meals', \n",
        "             'smoker', 'water_amount_daily', 'monitor_calories', 'phys_activity_frequency', 'daily_tech_usage', 'alcohol_usage', 'transportation', 'health_assessment']\n",
        "  \n",
        "  # encode binary columns (yes = 1, no = 0)\n",
        "  binary_cols = ['fam_hist_overweight', 'high_cal_freq', 'smoker', 'monitor_calories']\n",
        "  df[binary_cols] = df[binary_cols].applymap(lambda x: 1 if x == 'yes' else 0)\n",
        "\n",
        "  # fix veg_with_meals\n",
        "  df['veg_with_meals'] = df['veg_with_meals'].map(lambda veg:\n",
        "    'always' if veg == 3.0 else\n",
        "    'sometimes' if 1.7 <= veg <= 2.9 else\n",
        "    'never'\n",
        "  )                         \n",
        "  \n",
        "  # fix main_meals_daily\n",
        "  df['main_meals_daily'] = df['main_meals_daily'].map(lambda meal:\n",
        "    'three or more' if meal >= 3.0 else\n",
        "    'between 2 and 3' if 2.0 <= meal <= 2.9 else\n",
        "    'between 1 and 2' if 1.0 <= meal <= 1.9 else\n",
        "    'nothing much'\n",
        "    )\n",
        "  # water_amount_daily\n",
        "  df['water_amount_daily'] = df['water_amount_daily'].map(lambda water:\n",
        "     'more than 2L' if water == 3.0 else\n",
        "     'between 1L and 2L' if 1.0 <= water <=2.9 else\n",
        "     'less than 1L'\n",
        "     )\n",
        "  \n",
        "  # phys_activity_frequency\n",
        "  df['phys_activity_frequency'] = df['phys_activity_frequency'].map(lambda phys:\n",
        "    '4-5 days per week' if phys == 3.0 else\n",
        "    '2-4 days per week' if 2.0 <= phys <=2.9 else\n",
        "    '1-2 days per week' if 1.0 <= phys <= 1.9 else\n",
        "    'rarely, if ever'\n",
        "    )\n",
        "  \n",
        "  # data_tech_usage\n",
        "  df['daily_tech_usage'] = df['daily_tech_usage'].map(lambda tech:\n",
        "    'more than 5 hrs' if tech == 2.0 else\n",
        "    'between 3-5 hrs' if 1.0 <= tech <= 1.9 else\n",
        "    'between 0-2 hrs'\n",
        "    \n",
        "    ) \n",
        "  \n",
        "  return df\n",
        "\n",
        "df = wrangle(filepath='ObesityDataSet_raw_and_data_sinthetic.csv')"
      ],
      "metadata": {
        "id": "imlCsVQOPGoC"
      },
      "execution_count": null,
      "outputs": []
    },
    {
      "cell_type": "code",
      "source": [
        "df.head()"
      ],
      "metadata": {
        "colab": {
          "base_uri": "https://localhost:8080/",
          "height": 270
        },
        "id": "5LGzoztYXgjO",
        "outputId": "48a78999-2979-4ea6-af0f-8918ee4a057a"
      },
      "execution_count": null,
      "outputs": [
        {
          "output_type": "execute_result",
          "data": {
            "text/plain": [
              "   gender   age  height  weight  fam_hist_overweight  high_cal_freq  \\\n",
              "0  Female  21.0    1.62    64.0                    1              0   \n",
              "1  Female  21.0    1.52    56.0                    1              0   \n",
              "2    Male  23.0    1.80    77.0                    1              0   \n",
              "3    Male  27.0    1.80    87.0                    0              0   \n",
              "4    Male  22.0    1.78    89.8                    0              0   \n",
              "\n",
              "  veg_with_meals main_meals_daily eat_between_meals  smoker  \\\n",
              "0      sometimes    three or more         Sometimes       0   \n",
              "1         always    three or more         Sometimes       1   \n",
              "2      sometimes    three or more         Sometimes       0   \n",
              "3         always    three or more         Sometimes       0   \n",
              "4      sometimes  between 1 and 2         Sometimes       0   \n",
              "\n",
              "  water_amount_daily  monitor_calories phys_activity_frequency  \\\n",
              "0  between 1L and 2L                 0         rarely, if ever   \n",
              "1       more than 2L                 1       4-5 days per week   \n",
              "2  between 1L and 2L                 0       2-4 days per week   \n",
              "3  between 1L and 2L                 0       2-4 days per week   \n",
              "4  between 1L and 2L                 0         rarely, if ever   \n",
              "\n",
              "  daily_tech_usage alcohol_usage         transportation    health_assessment  \n",
              "0  between 3-5 hrs            no  Public_Transportation        Normal_Weight  \n",
              "1  between 0-2 hrs     Sometimes  Public_Transportation        Normal_Weight  \n",
              "2  between 3-5 hrs    Frequently  Public_Transportation        Normal_Weight  \n",
              "3  between 0-2 hrs    Frequently                Walking   Overweight_Level_I  \n",
              "4  between 0-2 hrs     Sometimes  Public_Transportation  Overweight_Level_II  "
            ],
            "text/html": [
              "\n",
              "  <div id=\"df-ba641933-6b12-42d0-b6d3-854834e664b3\">\n",
              "    <div class=\"colab-df-container\">\n",
              "      <div>\n",
              "<style scoped>\n",
              "    .dataframe tbody tr th:only-of-type {\n",
              "        vertical-align: middle;\n",
              "    }\n",
              "\n",
              "    .dataframe tbody tr th {\n",
              "        vertical-align: top;\n",
              "    }\n",
              "\n",
              "    .dataframe thead th {\n",
              "        text-align: right;\n",
              "    }\n",
              "</style>\n",
              "<table border=\"1\" class=\"dataframe\">\n",
              "  <thead>\n",
              "    <tr style=\"text-align: right;\">\n",
              "      <th></th>\n",
              "      <th>gender</th>\n",
              "      <th>age</th>\n",
              "      <th>height</th>\n",
              "      <th>weight</th>\n",
              "      <th>fam_hist_overweight</th>\n",
              "      <th>high_cal_freq</th>\n",
              "      <th>veg_with_meals</th>\n",
              "      <th>main_meals_daily</th>\n",
              "      <th>eat_between_meals</th>\n",
              "      <th>smoker</th>\n",
              "      <th>water_amount_daily</th>\n",
              "      <th>monitor_calories</th>\n",
              "      <th>phys_activity_frequency</th>\n",
              "      <th>daily_tech_usage</th>\n",
              "      <th>alcohol_usage</th>\n",
              "      <th>transportation</th>\n",
              "      <th>health_assessment</th>\n",
              "    </tr>\n",
              "  </thead>\n",
              "  <tbody>\n",
              "    <tr>\n",
              "      <th>0</th>\n",
              "      <td>Female</td>\n",
              "      <td>21.0</td>\n",
              "      <td>1.62</td>\n",
              "      <td>64.0</td>\n",
              "      <td>1</td>\n",
              "      <td>0</td>\n",
              "      <td>sometimes</td>\n",
              "      <td>three or more</td>\n",
              "      <td>Sometimes</td>\n",
              "      <td>0</td>\n",
              "      <td>between 1L and 2L</td>\n",
              "      <td>0</td>\n",
              "      <td>rarely, if ever</td>\n",
              "      <td>between 3-5 hrs</td>\n",
              "      <td>no</td>\n",
              "      <td>Public_Transportation</td>\n",
              "      <td>Normal_Weight</td>\n",
              "    </tr>\n",
              "    <tr>\n",
              "      <th>1</th>\n",
              "      <td>Female</td>\n",
              "      <td>21.0</td>\n",
              "      <td>1.52</td>\n",
              "      <td>56.0</td>\n",
              "      <td>1</td>\n",
              "      <td>0</td>\n",
              "      <td>always</td>\n",
              "      <td>three or more</td>\n",
              "      <td>Sometimes</td>\n",
              "      <td>1</td>\n",
              "      <td>more than 2L</td>\n",
              "      <td>1</td>\n",
              "      <td>4-5 days per week</td>\n",
              "      <td>between 0-2 hrs</td>\n",
              "      <td>Sometimes</td>\n",
              "      <td>Public_Transportation</td>\n",
              "      <td>Normal_Weight</td>\n",
              "    </tr>\n",
              "    <tr>\n",
              "      <th>2</th>\n",
              "      <td>Male</td>\n",
              "      <td>23.0</td>\n",
              "      <td>1.80</td>\n",
              "      <td>77.0</td>\n",
              "      <td>1</td>\n",
              "      <td>0</td>\n",
              "      <td>sometimes</td>\n",
              "      <td>three or more</td>\n",
              "      <td>Sometimes</td>\n",
              "      <td>0</td>\n",
              "      <td>between 1L and 2L</td>\n",
              "      <td>0</td>\n",
              "      <td>2-4 days per week</td>\n",
              "      <td>between 3-5 hrs</td>\n",
              "      <td>Frequently</td>\n",
              "      <td>Public_Transportation</td>\n",
              "      <td>Normal_Weight</td>\n",
              "    </tr>\n",
              "    <tr>\n",
              "      <th>3</th>\n",
              "      <td>Male</td>\n",
              "      <td>27.0</td>\n",
              "      <td>1.80</td>\n",
              "      <td>87.0</td>\n",
              "      <td>0</td>\n",
              "      <td>0</td>\n",
              "      <td>always</td>\n",
              "      <td>three or more</td>\n",
              "      <td>Sometimes</td>\n",
              "      <td>0</td>\n",
              "      <td>between 1L and 2L</td>\n",
              "      <td>0</td>\n",
              "      <td>2-4 days per week</td>\n",
              "      <td>between 0-2 hrs</td>\n",
              "      <td>Frequently</td>\n",
              "      <td>Walking</td>\n",
              "      <td>Overweight_Level_I</td>\n",
              "    </tr>\n",
              "    <tr>\n",
              "      <th>4</th>\n",
              "      <td>Male</td>\n",
              "      <td>22.0</td>\n",
              "      <td>1.78</td>\n",
              "      <td>89.8</td>\n",
              "      <td>0</td>\n",
              "      <td>0</td>\n",
              "      <td>sometimes</td>\n",
              "      <td>between 1 and 2</td>\n",
              "      <td>Sometimes</td>\n",
              "      <td>0</td>\n",
              "      <td>between 1L and 2L</td>\n",
              "      <td>0</td>\n",
              "      <td>rarely, if ever</td>\n",
              "      <td>between 0-2 hrs</td>\n",
              "      <td>Sometimes</td>\n",
              "      <td>Public_Transportation</td>\n",
              "      <td>Overweight_Level_II</td>\n",
              "    </tr>\n",
              "  </tbody>\n",
              "</table>\n",
              "</div>\n",
              "      <button class=\"colab-df-convert\" onclick=\"convertToInteractive('df-ba641933-6b12-42d0-b6d3-854834e664b3')\"\n",
              "              title=\"Convert this dataframe to an interactive table.\"\n",
              "              style=\"display:none;\">\n",
              "        \n",
              "  <svg xmlns=\"http://www.w3.org/2000/svg\" height=\"24px\"viewBox=\"0 0 24 24\"\n",
              "       width=\"24px\">\n",
              "    <path d=\"M0 0h24v24H0V0z\" fill=\"none\"/>\n",
              "    <path d=\"M18.56 5.44l.94 2.06.94-2.06 2.06-.94-2.06-.94-.94-2.06-.94 2.06-2.06.94zm-11 1L8.5 8.5l.94-2.06 2.06-.94-2.06-.94L8.5 2.5l-.94 2.06-2.06.94zm10 10l.94 2.06.94-2.06 2.06-.94-2.06-.94-.94-2.06-.94 2.06-2.06.94z\"/><path d=\"M17.41 7.96l-1.37-1.37c-.4-.4-.92-.59-1.43-.59-.52 0-1.04.2-1.43.59L10.3 9.45l-7.72 7.72c-.78.78-.78 2.05 0 2.83L4 21.41c.39.39.9.59 1.41.59.51 0 1.02-.2 1.41-.59l7.78-7.78 2.81-2.81c.8-.78.8-2.07 0-2.86zM5.41 20L4 18.59l7.72-7.72 1.47 1.35L5.41 20z\"/>\n",
              "  </svg>\n",
              "      </button>\n",
              "      \n",
              "  <style>\n",
              "    .colab-df-container {\n",
              "      display:flex;\n",
              "      flex-wrap:wrap;\n",
              "      gap: 12px;\n",
              "    }\n",
              "\n",
              "    .colab-df-convert {\n",
              "      background-color: #E8F0FE;\n",
              "      border: none;\n",
              "      border-radius: 50%;\n",
              "      cursor: pointer;\n",
              "      display: none;\n",
              "      fill: #1967D2;\n",
              "      height: 32px;\n",
              "      padding: 0 0 0 0;\n",
              "      width: 32px;\n",
              "    }\n",
              "\n",
              "    .colab-df-convert:hover {\n",
              "      background-color: #E2EBFA;\n",
              "      box-shadow: 0px 1px 2px rgba(60, 64, 67, 0.3), 0px 1px 3px 1px rgba(60, 64, 67, 0.15);\n",
              "      fill: #174EA6;\n",
              "    }\n",
              "\n",
              "    [theme=dark] .colab-df-convert {\n",
              "      background-color: #3B4455;\n",
              "      fill: #D2E3FC;\n",
              "    }\n",
              "\n",
              "    [theme=dark] .colab-df-convert:hover {\n",
              "      background-color: #434B5C;\n",
              "      box-shadow: 0px 1px 3px 1px rgba(0, 0, 0, 0.15);\n",
              "      filter: drop-shadow(0px 1px 2px rgba(0, 0, 0, 0.3));\n",
              "      fill: #FFFFFF;\n",
              "    }\n",
              "  </style>\n",
              "\n",
              "      <script>\n",
              "        const buttonEl =\n",
              "          document.querySelector('#df-ba641933-6b12-42d0-b6d3-854834e664b3 button.colab-df-convert');\n",
              "        buttonEl.style.display =\n",
              "          google.colab.kernel.accessAllowed ? 'block' : 'none';\n",
              "\n",
              "        async function convertToInteractive(key) {\n",
              "          const element = document.querySelector('#df-ba641933-6b12-42d0-b6d3-854834e664b3');\n",
              "          const dataTable =\n",
              "            await google.colab.kernel.invokeFunction('convertToInteractive',\n",
              "                                                     [key], {});\n",
              "          if (!dataTable) return;\n",
              "\n",
              "          const docLinkHtml = 'Like what you see? Visit the ' +\n",
              "            '<a target=\"_blank\" href=https://colab.research.google.com/notebooks/data_table.ipynb>data table notebook</a>'\n",
              "            + ' to learn more about interactive tables.';\n",
              "          element.innerHTML = '';\n",
              "          dataTable['output_type'] = 'display_data';\n",
              "          await google.colab.output.renderOutput(dataTable, element);\n",
              "          const docLink = document.createElement('div');\n",
              "          docLink.innerHTML = docLinkHtml;\n",
              "          element.appendChild(docLink);\n",
              "        }\n",
              "      </script>\n",
              "    </div>\n",
              "  </div>\n",
              "  "
            ]
          },
          "metadata": {},
          "execution_count": 77
        }
      ]
    },
    {
      "cell_type": "code",
      "source": [
        "target = 'health_assessment'\n",
        "y = df[target]\n",
        "X = df.drop(columns=target)\n",
        "\n",
        "X.shape, y.shape"
      ],
      "metadata": {
        "colab": {
          "base_uri": "https://localhost:8080/"
        },
        "id": "tFNu9zEzh3Ax",
        "outputId": "0ed205ad-1a26-4f9a-ef99-89eecff666a0"
      },
      "execution_count": null,
      "outputs": [
        {
          "output_type": "execute_result",
          "data": {
            "text/plain": [
              "((2111, 16), (2111,))"
            ]
          },
          "metadata": {},
          "execution_count": 78
        }
      ]
    },
    {
      "cell_type": "code",
      "source": [
        "# split the data\n",
        "\n",
        "X_train, X_val, y_train, y_val = train_test_split(X, y, test_size=0.2, random_state=42)"
      ],
      "metadata": {
        "id": "fRV6jQv0iajM"
      },
      "execution_count": null,
      "outputs": []
    },
    {
      "cell_type": "code",
      "source": [
        "# establish BASELINE\n",
        "baseline_acc = y_train.value_counts(normalize=True).max()\n",
        "print('Baseline Accuracy Score:', baseline_acc)"
      ],
      "metadata": {
        "colab": {
          "base_uri": "https://localhost:8080/"
        },
        "id": "_137deWTii-k",
        "outputId": "d128488e-d998-4798-b703-5317b5a8e80a"
      },
      "execution_count": null,
      "outputs": [
        {
          "output_type": "stream",
          "name": "stdout",
          "text": [
            "Baseline Accuracy Score: 0.1617298578199052\n"
          ]
        }
      ]
    },
    {
      "cell_type": "code",
      "source": [
        "# RANDOM FOREST\n",
        "model_rf = make_pipeline(\n",
        "    OrdinalEncoder(handle_unknown='use_encoded_value', unknown_value=-1), \n",
        "    RandomForestClassifier(random_state=42, n_jobs=-1)\n",
        ")\n",
        "\n",
        "model_rf.fit(X_train, y_train);"
      ],
      "metadata": {
        "id": "NLvNT-2pitfi"
      },
      "execution_count": null,
      "outputs": []
    },
    {
      "cell_type": "code",
      "source": [
        "# GRADIENT BOOSTED\n",
        "model_gb = make_pipeline(\n",
        "    OrdinalEncoder(handle_unknown='use_encoded_value', unknown_value=-1), \n",
        "    GradientBoostingClassifier(random_state=42)\n",
        ")\n",
        "\n",
        "model_gb.fit(X_train, y_train);"
      ],
      "metadata": {
        "id": "Gd1OBzQTiu9T"
      },
      "execution_count": null,
      "outputs": []
    },
    {
      "cell_type": "code",
      "source": [
        "# XGB BOOSTED\n",
        "model_xgb = make_pipeline(\n",
        "    OrdinalEncoder(handle_unknown='use_encoded_value', unknown_value=-1), \n",
        "    XGBClassifier(random_state=42, n_jobs=-1)\n",
        ")\n",
        "\n",
        "model_xgb.fit(X_train, y_train);"
      ],
      "metadata": {
        "id": "u3N5YVRYjocB"
      },
      "execution_count": null,
      "outputs": []
    },
    {
      "cell_type": "code",
      "source": [
        "# RF: check training and test accuracy for all three models\n",
        "\n",
        "print('RF Training Accuracy', model_rf.score(X_train, y_train))\n",
        "print('RF Test Accuracy', model_rf.score(X_val, y_val))\n",
        "print()\n",
        "print('GB Training Accuracy', model_gb.score(X_train, y_train))\n",
        "print('GB Validation Accuracy', model_gb.score(X_val, y_val))\n",
        "print()\n",
        "print('XGB Training Accuracy', model_xgb.score(X_train, y_train))\n",
        "print('XGB Validation Accuracy', model_xgb.score(X_val, y_val))"
      ],
      "metadata": {
        "colab": {
          "base_uri": "https://localhost:8080/"
        },
        "id": "Hebrlv5CkGRK",
        "outputId": "acae5f89-faba-45a7-a594-10642f152974"
      },
      "execution_count": null,
      "outputs": [
        {
          "output_type": "stream",
          "name": "stdout",
          "text": [
            "RF Training Accuracy 1.0\n",
            "RF Test Accuracy 0.32387706855791965\n",
            "\n",
            "GB Training Accuracy 0.9994075829383886\n",
            "GB Validation Accuracy 0.3640661938534279\n",
            "\n",
            "XGB Training Accuracy 0.9946682464454977\n",
            "XGB Validation Accuracy 0.35224586288416077\n"
          ]
        }
      ]
    },
    {
      "cell_type": "code",
      "source": [
        "# plot the importances\n",
        "importances = model_gb.named_steps['gradientboostingclassifier'].feature_importances_\n",
        "feature_names = X_train.columns\n",
        "feat_imp = pd.Series(data=importances, index=feature_names).sort_values()\n",
        "feat_imp.tail(10).plot(kind='barh')\n",
        "plt.xlabel('Gini Importance')\n",
        "plt.ylabel('Feature')"
      ],
      "metadata": {
        "colab": {
          "base_uri": "https://localhost:8080/",
          "height": 296
        },
        "id": "7auHYwjckb6U",
        "outputId": "8260a5a8-897a-4d57-95a0-c1767b0541b9"
      },
      "execution_count": null,
      "outputs": [
        {
          "output_type": "execute_result",
          "data": {
            "text/plain": [
              "Text(0, 0.5, 'Feature')"
            ]
          },
          "metadata": {},
          "execution_count": 87
        },
        {
          "output_type": "display_data",
          "data": {
            "text/plain": [
              "<Figure size 432x288 with 1 Axes>"
            ],
            "image/png": "[encoded data removed]"
          },
          "metadata": {
            "needs_background": "light"
          }
        }
      ]
    }
  ],
  "metadata": {
    "kernelspec": {
      "display_name": "Python 3",
      "language": "python",
      "name": "python3"
    },
    "language_info": {
      "codemirror_mode": {
        "name": "ipython",
        "version": 3
      },
      "file_extension": ".py",
      "mimetype": "text/x-python",
      "name": "python",
      "nbconvert_exporter": "python",
      "pygments_lexer": "ipython3",
      "version": "3.7.6"
    },
    "colab": {
      "provenance": []
    }
  },
  "nbformat": 4,
  "nbformat_minor": 0
}